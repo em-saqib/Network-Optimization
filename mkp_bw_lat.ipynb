{
  "nbformat": 4,
  "nbformat_minor": 0,
  "metadata": {
    "colab": {
      "provenance": [],
      "collapsed_sections": [],
      "authorship_tag": "ABX9TyNC8uv+tZx1uC3oGiI6NaBQ"
    },
    "kernelspec": {
      "name": "python3",
      "display_name": "Python 3"
    },
    "language_info": {
      "name": "python"
    }
  },
  "cells": [
    {
      "cell_type": "markdown",
      "source": [
        "**Multi-Knapsack Problem with Bandwidth and Latency Constraints**"
      ],
      "metadata": {
        "id": "G-h98kDLqYAD"
      }
    },
    {
      "cell_type": "code",
      "execution_count": null,
      "metadata": {
        "id": "WXt5LrQiqQro"
      },
      "outputs": [],
      "source": [
        "# Import all required liberaries\n",
        "import random\n",
        "from random import randint\n",
        "import networkx as nx\n",
        "import matplotlib.pyplot as plt"
      ]
    },
    {
      "cell_type": "code",
      "source": [
        "# Create the graph\n",
        "\n",
        "G = nx.DiGraph()\n",
        "\n",
        "G.add_edge(\"s\", \"a\", capacity=[1000, 9])\n",
        "G.add_edge(\"s\", \"b\", capacity=[6000, 4])\n",
        "G.add_edge(\"s\", \"c\", capacity=[8000, 1])\n",
        "G.add_edge(\"a\", \"d\", capacity=[3000, 7])\n",
        "G.add_edge(\"a\", \"e\", capacity=[1000, 7])\n",
        "G.add_edge(\"b\", \"e\", capacity=[4000, 5])\n",
        "G.add_edge(\"b\", \"f\", capacity=[6000, 3])\n",
        "G.add_edge(\"c\", \"f\", capacity=[1500, 4])\n",
        "G.add_edge(\"c\", \"d\", capacity=[8000, 2])\n",
        "G.add_edge(\"d\", \"t\", capacity=[8000, 2])\n",
        "G.add_edge(\"e\", \"t\", capacity=[1000, 10])\n",
        "G.add_edge(\"f\", \"t\", capacity=[6000, 4])\n",
        "\n",
        "# elarge = [(u, v) for (u, v, d) in G.edges(data=True) if d[\"capacity\"] > 0.5]\n",
        "# esmall = [(u, v) for (u, v, d) in G.edges(data=True) if d[\"capacity\"] <= 0.5]\n",
        "\n",
        "pos = nx.spring_layout(G, seed=7)  # positions for all nodes - seed for reproducibility\n",
        "\n",
        "# nodes\n",
        "nx.draw_networkx_nodes(G, pos, node_size=700)\n",
        "\n",
        "# edges\n",
        "# nx.draw_networkx_edges(G, pos, edgelist=elarge, width=6)\n",
        "# nx.draw_networkx_edges(\n",
        "#     G, pos, edgelist=esmall, width=6, alpha=0.5, edge_color=\"b\", style=\"dashed\"\n",
        "# )\n",
        "\n",
        "# node labels\n",
        "nx.draw_networkx_labels(G, pos, font_size=20, font_family=\"sans-serif\")\n",
        "# edge weight labels\n",
        "edge_labels = nx.get_edge_attributes(G, \"capacity\")\n",
        "nx.draw_networkx_edge_labels(G, pos, edge_labels)\n",
        "\n",
        "ax = plt.gca()\n",
        "ax.margins(0.08)\n",
        "plt.axis(\"off\")\n",
        "plt.tight_layout()\n",
        "plt.show()"
      ],
      "metadata": {
        "id": "iI3ufQQLqieF"
      },
      "execution_count": null,
      "outputs": []
    },
    {
      "cell_type": "code",
      "source": [
        "# Find al possible paths between S and D and save it into paths list\n",
        "\n",
        "paths = []\n",
        "\n",
        "for i in nx.all_simple_paths(G, source='s', target='t'):\n",
        "  print(i)\n",
        "#paths"
      ],
      "metadata": {
        "id": "FsI2hQFkqigc"
      },
      "execution_count": null,
      "outputs": []
    },
    {
      "cell_type": "code",
      "source": [
        "# Create de,and and revenue data manually\n",
        "revenue = {'item_1': 50, 'item_2': 20, 'item_3': 30, 'item_4': 40, 'item_5': 50} \n",
        "bw_dem = {'item_1': 1000, 'item_2': 2000, 'item_3': 3000, 'item_4': 4000, 'item_5': 5000} \n",
        "lt_dem = {'item_1': 10, 'item_2': 5, 'item_3': 3, 'item_4': 4, 'item_5': 2} \n",
        "# capacities = {'path_1': 1000, 'path_2': 6000, 'path_3': 8000}. # Knapsack capacities\n",
        "\n",
        "classes = ['item_1', 'item_2', 'item_3', 'item_4', 'item_5']\n",
        "# paths = ['path_1', 'path_2', 'path_3']"
      ],
      "metadata": {
        "id": "ZfvhWbpBqijB"
      },
      "execution_count": null,
      "outputs": []
    },
    {
      "cell_type": "code",
      "source": [
        "# Generate paths (knapsacks) between S and D\n",
        "\n",
        "# Find min cut for every path\n",
        "\n",
        "import random\n",
        "from random import randrange\n",
        "paths = []\n",
        "\n",
        "def find_bw_cut(path):                        # a function to get the edge with minimum capacity in each path\n",
        "  min = 1000000                            # a random value to maintain minimum capacity record in each path\n",
        "  i = 0                                    # index for keeping path number\n",
        "  x = 0                                    # u node of an edge\n",
        "  y = 1                                    # v node of an edge\n",
        "                                           # print(\"Path id: \", i )\n",
        "  for i in range(len(path) - 1):           # to get u and v nodes of every edge\n",
        "                                           # print(path[x], path[y])\n",
        "    d = G.get_edge_data(path[x], path[y])  # get edge record from dictionary\n",
        "    val = d['capacity'][0]                     # get the capacity value of edge\n",
        "    if val < min:                          # compare the capacity value of edge to see if it is minimum until now\n",
        "      min = val                            # keep the minimum value\n",
        "    x = x + 1\n",
        "    y = y + 1\n",
        "    i = i + 1\n",
        "    \n",
        "  return min\n",
        "                                          # print(\"Min cut is\", min, \" for path : \", path\n",
        "        \n",
        "def find_lat_cut(path):                        # a function to get the edge with minimum capacity in each path\n",
        "  max = 0                           # a random value to maintain minimum capacity record in each path\n",
        "  i = 0                                    # index for keeping path number\n",
        "  x = 0                                    # u node of an edge\n",
        "  y = 1                                    # v node of an edge\n",
        "                                           # print(\"Path id: \", i )\n",
        "  for i in range(len(path) - 1):           # to get u and v nodes of every edge\n",
        "                                           # print(path[x], path[y])\n",
        "    d = G.get_edge_data(path[x], path[y])  # get edge record from dictionary\n",
        "    val = d['capacity'][1]                     # get the capacity value of edge\n",
        "    if val > max:                          # compare the capacity value of edge to see if it is minimum until now\n",
        "      max = val                            # keep the minimum value\n",
        "    x = x + 1\n",
        "    y = y + 1\n",
        "    i = i + 1\n",
        "                                          # print(\"Min cut is\", min, \" for path : \", path)\n",
        "        \n",
        "  return max\n",
        "\n",
        "\n",
        "def path_d_bw():                             # a fucntion to keep dicitonary of paths (knapsacks)           \n",
        "   z = 0                                  # index for maintaining path id\n",
        "   mydic = {}\n",
        "   path_id = []                           # list to only keep the path id\n",
        "   for path in nx.all_simple_paths(G, source='s', target='t'):               # a built-in function of networkx for finding paths\n",
        "     path_id.append('path_'+str(z))\n",
        "                                          #print(\"Path id: \", path_id[z])\n",
        "     # paths.append(path)                 # already defined above\n",
        "     #print(\"Path nodes:\", path)\n",
        "\n",
        "     min_cut = find_bw_cut(path)             # cal the function to get minimum capacity edge of every path\n",
        "     #print(\"Path id: \", path_id[z], \"Path: \", path , \"Min cut: \", min_cut)\n",
        "     # mydic['path_'+str(z)] = randrange(1000,5000) # was used to assign random min edge capacity to each path\n",
        "     mydic['path_'+str(z)] = min_cut     # assign minimum cut value here to each path\n",
        "     z = z + 1\n",
        "   return mydic                          # the output is path ids with minimum edge capacities\n",
        "\n",
        "\n",
        "def path_d_lat():                             # a fucntion to keep dicitonary of paths (knapsacks)           \n",
        "   z = 0                                  # index for maintaining path id\n",
        "   mydic = {}\n",
        "   path_id = []                           # list to only keep the path id\n",
        "   for path in nx.all_simple_paths(G, source='s', target='t'):               # a built-in function of networkx for finding paths\n",
        "     path_id.append('path_'+str(z))\n",
        "                                          #print(\"Path id: \", path_id[z])\n",
        "     # paths.append(path)                 # already defined above\n",
        "     #print(\"Path nodes:\", path)\n",
        "\n",
        "     max_cut = find_lat_cut(path)             # cal the function to get minimum capacity edge of every path\n",
        "     #print(\"Path id: \", path_id[z], \"Path: \", path , \"Min cut: \", min_cut)\n",
        "     # mydic['path_'+str(z)] = randrange(1000,5000) # was used to assign random min edge capacity to each path\n",
        "     mydic['path_'+str(z)] = max_cut     # assign minimum cut value here to each path\n",
        "     z = z + 1\n",
        "   return mydic                          # the output is path ids with minimum edge capacities\n",
        "\n",
        "\n",
        "def path_l():                            # function for keeping the path ids that will be used if defining contraint\n",
        "   z = 0       \n",
        "   mylist = []\n",
        "   for i in nx.all_simple_paths(G, source='s', target='t'):\n",
        "     mylist.append('path_'+str(z))\n",
        "     z = z + 1\n",
        "   return mylist                         # the output is path ids\n",
        "\n",
        "path_dic_bw = path_d_bw()\n",
        "path_dic_lat = path_d_lat()\n",
        "path_list = path_l()\n"
      ],
      "metadata": {
        "id": "9a1pt79MqilZ"
      },
      "execution_count": null,
      "outputs": []
    },
    {
      "cell_type": "code",
      "source": [
        "# Our data are listed belows, ready for apply multi-knapsack optimization to find the optimal placements\n",
        "\n",
        "print(\"DEMANDS:\")\n",
        "print(\"BW Demands: \", bw_dem)\n",
        "print(\"LT Demands: \", lt_dem)\n",
        "print(\"Revenues: \", revenue)\n",
        "\n",
        "print(\"CAPACITIES: \")\n",
        "print(\"Path bw dic: \", path_dic_bw)\n",
        "print(\"Path lat dic: \", path_dic_lat)\n",
        "\n",
        "print(\"Classes: \", classes)\n",
        "print(\"Path list: \", path_list)"
      ],
      "metadata": {
        "id": "0FLl5F4gqin-"
      },
      "execution_count": null,
      "outputs": []
    },
    {
      "cell_type": "markdown",
      "source": [
        "Apply Gurobi solver to find the optimla allocation"
      ],
      "metadata": {
        "id": "ndQnP5dIq0Bi"
      }
    },
    {
      "cell_type": "code",
      "source": [
        "# Apply optimization here\n",
        "\n",
        "import numpy as np\n",
        "import pandas as pd\n",
        "import gurobipy as gp\n",
        "from gurobipy import GRB\n",
        "\n",
        "# This value above are just exemples\n",
        "m = gp.Model('ks')\n",
        "\n",
        "# Insert the decision variables\n",
        "x = m.addVars(classes, path_list, vtype = gp.GRB.BINARY)\n",
        "\n",
        "# Define the objective function\n",
        "m.setObjective(gp.quicksum(x[i, j] * revenue[i] for i in classes for j in path_list), sense=gp.GRB.MAXIMIZE)\n",
        "\n",
        "# Constraint 1: satisfy the demand once, assign demand to only one knapsack at most\n",
        "c1 = m.addConstrs(gp.quicksum(x[i,j] for j in path_list) <= 1 for i in classes)\n",
        "\n",
        "# Constraint 2: respect the path bandwidth capacity\n",
        "c2 = m.addConstrs(gp.quicksum(x[i,j] * bw_dem[i] for i in classes) <= path_dic_bw[j] for j in path_list)\n",
        "\n",
        "# Constraint 3: respect the path latency capacity\n",
        "c3 = m.addConstrs((path_dic_lat[j] * x[i, j] <= lt_dem[i]for j in path_list for i in classes ), name = 'latency')\n",
        "\n",
        "\n",
        "# Run the model\n",
        "m.optimize()\n",
        "m.setParam(GRB.Param.OutputFlag, 0)\n",
        "\n",
        "# Status checking\n",
        "status = m.Status\n",
        "if status in (GRB.INF_OR_UNBD, GRB.INFEASIBLE, GRB.UNBOUNDED):\n",
        "    print('The model cannot be solved because it is infeasible or '\n",
        "            'unbounded')\n",
        "    sys.exit(1)\n",
        "\n",
        "if status != GRB.OPTIMAL:\n",
        "    print('Optimization was stopped with status ' + str(status))\n",
        "    sys.exit(1)"
      ],
      "metadata": {
        "id": "RTdY7LuEqiql"
      },
      "execution_count": null,
      "outputs": []
    },
    {
      "cell_type": "code",
      "source": [
        "# Display optimal values of decision variables\n",
        "for v in m.getVars():\n",
        "    if v.x > 1e-6:\n",
        "        print(v.varName, v.x)\n",
        "\n",
        "# Display optimal total matching score\n",
        "print('Total matching score: ', m.objVal)"
      ],
      "metadata": {
        "id": "ppLp7is2qis7"
      },
      "execution_count": null,
      "outputs": []
    },
    {
      "cell_type": "code",
      "source": [
        "x # to list the variables"
      ],
      "metadata": {
        "id": "JvjXk-aBqivT"
      },
      "execution_count": null,
      "outputs": []
    },
    {
      "cell_type": "code",
      "source": [],
      "metadata": {
        "id": "CJEbJY5oqixq"
      },
      "execution_count": null,
      "outputs": []
    },
    {
      "cell_type": "code",
      "source": [],
      "metadata": {
        "id": "3W83bhI3qi0f"
      },
      "execution_count": null,
      "outputs": []
    },
    {
      "cell_type": "code",
      "source": [],
      "metadata": {
        "id": "GsmCTjUgqi21"
      },
      "execution_count": null,
      "outputs": []
    }
  ]
}
